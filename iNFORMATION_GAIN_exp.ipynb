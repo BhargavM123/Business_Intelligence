{
  "nbformat": 4,
  "nbformat_minor": 0,
  "metadata": {
    "colab": {
      "provenance": []
    },
    "kernelspec": {
      "name": "python3",
      "display_name": "Python 3"
    },
    "language_info": {
      "name": "python"
    }
  },
  "cells": [
    {
      "cell_type": "code",
      "execution_count": null,
      "metadata": {
        "id": "wutFiGT2jhHV"
      },
      "outputs": [],
      "source": [
        "import numpy as np\n",
        "import pandas as pd"
      ]
    },
    {
      "cell_type": "code",
      "source": [
        "df = pd.read_csv(\"/content/tennis.csv\")"
      ],
      "metadata": {
        "id": "MRQPhD9dlfR_"
      },
      "execution_count": null,
      "outputs": []
    },
    {
      "cell_type": "code",
      "source": [
        "df.shape"
      ],
      "metadata": {
        "colab": {
          "base_uri": "https://localhost:8080/"
        },
        "id": "EQ0lNZXRlnGl",
        "outputId": "3b413ef5-f149-4716-c61d-5d93d9688fd8"
      },
      "execution_count": null,
      "outputs": [
        {
          "output_type": "execute_result",
          "data": {
            "text/plain": [
              "(14, 5)"
            ]
          },
          "metadata": {},
          "execution_count": 4
        }
      ]
    },
    {
      "cell_type": "code",
      "source": [
        "df.corr()"
      ],
      "metadata": {
        "colab": {
          "base_uri": "https://localhost:8080/",
          "height": 80
        },
        "id": "3f-PUzaZlon1",
        "outputId": "c3a10d29-2a17-4f19-ca61-8bbd5ad0cd22"
      },
      "execution_count": null,
      "outputs": [
        {
          "output_type": "execute_result",
          "data": {
            "text/plain": [
              "       windy\n",
              "windy    1.0"
            ],
            "text/html": [
              "\n",
              "  <div id=\"df-56b4d13e-4fc1-4d60-9ec7-ae7d5d008e04\">\n",
              "    <div class=\"colab-df-container\">\n",
              "      <div>\n",
              "<style scoped>\n",
              "    .dataframe tbody tr th:only-of-type {\n",
              "        vertical-align: middle;\n",
              "    }\n",
              "\n",
              "    .dataframe tbody tr th {\n",
              "        vertical-align: top;\n",
              "    }\n",
              "\n",
              "    .dataframe thead th {\n",
              "        text-align: right;\n",
              "    }\n",
              "</style>\n",
              "<table border=\"1\" class=\"dataframe\">\n",
              "  <thead>\n",
              "    <tr style=\"text-align: right;\">\n",
              "      <th></th>\n",
              "      <th>windy</th>\n",
              "    </tr>\n",
              "  </thead>\n",
              "  <tbody>\n",
              "    <tr>\n",
              "      <th>windy</th>\n",
              "      <td>1.0</td>\n",
              "    </tr>\n",
              "  </tbody>\n",
              "</table>\n",
              "</div>\n",
              "      <button class=\"colab-df-convert\" onclick=\"convertToInteractive('df-56b4d13e-4fc1-4d60-9ec7-ae7d5d008e04')\"\n",
              "              title=\"Convert this dataframe to an interactive table.\"\n",
              "              style=\"display:none;\">\n",
              "        \n",
              "  <svg xmlns=\"http://www.w3.org/2000/svg\" height=\"24px\"viewBox=\"0 0 24 24\"\n",
              "       width=\"24px\">\n",
              "    <path d=\"M0 0h24v24H0V0z\" fill=\"none\"/>\n",
              "    <path d=\"M18.56 5.44l.94 2.06.94-2.06 2.06-.94-2.06-.94-.94-2.06-.94 2.06-2.06.94zm-11 1L8.5 8.5l.94-2.06 2.06-.94-2.06-.94L8.5 2.5l-.94 2.06-2.06.94zm10 10l.94 2.06.94-2.06 2.06-.94-2.06-.94-.94-2.06-.94 2.06-2.06.94z\"/><path d=\"M17.41 7.96l-1.37-1.37c-.4-.4-.92-.59-1.43-.59-.52 0-1.04.2-1.43.59L10.3 9.45l-7.72 7.72c-.78.78-.78 2.05 0 2.83L4 21.41c.39.39.9.59 1.41.59.51 0 1.02-.2 1.41-.59l7.78-7.78 2.81-2.81c.8-.78.8-2.07 0-2.86zM5.41 20L4 18.59l7.72-7.72 1.47 1.35L5.41 20z\"/>\n",
              "  </svg>\n",
              "      </button>\n",
              "      \n",
              "  <style>\n",
              "    .colab-df-container {\n",
              "      display:flex;\n",
              "      flex-wrap:wrap;\n",
              "      gap: 12px;\n",
              "    }\n",
              "\n",
              "    .colab-df-convert {\n",
              "      background-color: #E8F0FE;\n",
              "      border: none;\n",
              "      border-radius: 50%;\n",
              "      cursor: pointer;\n",
              "      display: none;\n",
              "      fill: #1967D2;\n",
              "      height: 32px;\n",
              "      padding: 0 0 0 0;\n",
              "      width: 32px;\n",
              "    }\n",
              "\n",
              "    .colab-df-convert:hover {\n",
              "      background-color: #E2EBFA;\n",
              "      box-shadow: 0px 1px 2px rgba(60, 64, 67, 0.3), 0px 1px 3px 1px rgba(60, 64, 67, 0.15);\n",
              "      fill: #174EA6;\n",
              "    }\n",
              "\n",
              "    [theme=dark] .colab-df-convert {\n",
              "      background-color: #3B4455;\n",
              "      fill: #D2E3FC;\n",
              "    }\n",
              "\n",
              "    [theme=dark] .colab-df-convert:hover {\n",
              "      background-color: #434B5C;\n",
              "      box-shadow: 0px 1px 3px 1px rgba(0, 0, 0, 0.15);\n",
              "      filter: drop-shadow(0px 1px 2px rgba(0, 0, 0, 0.3));\n",
              "      fill: #FFFFFF;\n",
              "    }\n",
              "  </style>\n",
              "\n",
              "      <script>\n",
              "        const buttonEl =\n",
              "          document.querySelector('#df-56b4d13e-4fc1-4d60-9ec7-ae7d5d008e04 button.colab-df-convert');\n",
              "        buttonEl.style.display =\n",
              "          google.colab.kernel.accessAllowed ? 'block' : 'none';\n",
              "\n",
              "        async function convertToInteractive(key) {\n",
              "          const element = document.querySelector('#df-56b4d13e-4fc1-4d60-9ec7-ae7d5d008e04');\n",
              "          const dataTable =\n",
              "            await google.colab.kernel.invokeFunction('convertToInteractive',\n",
              "                                                     [key], {});\n",
              "          if (!dataTable) return;\n",
              "\n",
              "          const docLinkHtml = 'Like what you see? Visit the ' +\n",
              "            '<a target=\"_blank\" href=https://colab.research.google.com/notebooks/data_table.ipynb>data table notebook</a>'\n",
              "            + ' to learn more about interactive tables.';\n",
              "          element.innerHTML = '';\n",
              "          dataTable['output_type'] = 'display_data';\n",
              "          await google.colab.output.renderOutput(dataTable, element);\n",
              "          const docLink = document.createElement('div');\n",
              "          docLink.innerHTML = docLinkHtml;\n",
              "          element.appendChild(docLink);\n",
              "        }\n",
              "      </script>\n",
              "    </div>\n",
              "  </div>\n",
              "  "
            ]
          },
          "metadata": {},
          "execution_count": 5
        }
      ]
    },
    {
      "cell_type": "code",
      "source": [
        "df.head(10)"
      ],
      "metadata": {
        "colab": {
          "base_uri": "https://localhost:8080/",
          "height": 363
        },
        "id": "-Hci3bFMlp_F",
        "outputId": "53aa1999-3d00-4da4-fac8-72b4bd653e7b"
      },
      "execution_count": null,
      "outputs": [
        {
          "output_type": "execute_result",
          "data": {
            "text/plain": [
              "    outlook  temp humidity  windy play\n",
              "0     sunny   hot     high  False   no\n",
              "1     sunny   hot     high   True   no\n",
              "2  overcast   hot     high  False  yes\n",
              "3     rainy  mild     high  False  yes\n",
              "4     rainy  cool   normal  False  yes\n",
              "5     rainy  cool   normal   True   no\n",
              "6  overcast  cool   normal   True  yes\n",
              "7     sunny  mild     high  False   no\n",
              "8     sunny  cool   normal  False  yes\n",
              "9     rainy  mild   normal  False  yes"
            ],
            "text/html": [
              "\n",
              "  <div id=\"df-a4b309b3-3003-4e1a-b285-cbe17265df48\">\n",
              "    <div class=\"colab-df-container\">\n",
              "      <div>\n",
              "<style scoped>\n",
              "    .dataframe tbody tr th:only-of-type {\n",
              "        vertical-align: middle;\n",
              "    }\n",
              "\n",
              "    .dataframe tbody tr th {\n",
              "        vertical-align: top;\n",
              "    }\n",
              "\n",
              "    .dataframe thead th {\n",
              "        text-align: right;\n",
              "    }\n",
              "</style>\n",
              "<table border=\"1\" class=\"dataframe\">\n",
              "  <thead>\n",
              "    <tr style=\"text-align: right;\">\n",
              "      <th></th>\n",
              "      <th>outlook</th>\n",
              "      <th>temp</th>\n",
              "      <th>humidity</th>\n",
              "      <th>windy</th>\n",
              "      <th>play</th>\n",
              "    </tr>\n",
              "  </thead>\n",
              "  <tbody>\n",
              "    <tr>\n",
              "      <th>0</th>\n",
              "      <td>sunny</td>\n",
              "      <td>hot</td>\n",
              "      <td>high</td>\n",
              "      <td>False</td>\n",
              "      <td>no</td>\n",
              "    </tr>\n",
              "    <tr>\n",
              "      <th>1</th>\n",
              "      <td>sunny</td>\n",
              "      <td>hot</td>\n",
              "      <td>high</td>\n",
              "      <td>True</td>\n",
              "      <td>no</td>\n",
              "    </tr>\n",
              "    <tr>\n",
              "      <th>2</th>\n",
              "      <td>overcast</td>\n",
              "      <td>hot</td>\n",
              "      <td>high</td>\n",
              "      <td>False</td>\n",
              "      <td>yes</td>\n",
              "    </tr>\n",
              "    <tr>\n",
              "      <th>3</th>\n",
              "      <td>rainy</td>\n",
              "      <td>mild</td>\n",
              "      <td>high</td>\n",
              "      <td>False</td>\n",
              "      <td>yes</td>\n",
              "    </tr>\n",
              "    <tr>\n",
              "      <th>4</th>\n",
              "      <td>rainy</td>\n",
              "      <td>cool</td>\n",
              "      <td>normal</td>\n",
              "      <td>False</td>\n",
              "      <td>yes</td>\n",
              "    </tr>\n",
              "    <tr>\n",
              "      <th>5</th>\n",
              "      <td>rainy</td>\n",
              "      <td>cool</td>\n",
              "      <td>normal</td>\n",
              "      <td>True</td>\n",
              "      <td>no</td>\n",
              "    </tr>\n",
              "    <tr>\n",
              "      <th>6</th>\n",
              "      <td>overcast</td>\n",
              "      <td>cool</td>\n",
              "      <td>normal</td>\n",
              "      <td>True</td>\n",
              "      <td>yes</td>\n",
              "    </tr>\n",
              "    <tr>\n",
              "      <th>7</th>\n",
              "      <td>sunny</td>\n",
              "      <td>mild</td>\n",
              "      <td>high</td>\n",
              "      <td>False</td>\n",
              "      <td>no</td>\n",
              "    </tr>\n",
              "    <tr>\n",
              "      <th>8</th>\n",
              "      <td>sunny</td>\n",
              "      <td>cool</td>\n",
              "      <td>normal</td>\n",
              "      <td>False</td>\n",
              "      <td>yes</td>\n",
              "    </tr>\n",
              "    <tr>\n",
              "      <th>9</th>\n",
              "      <td>rainy</td>\n",
              "      <td>mild</td>\n",
              "      <td>normal</td>\n",
              "      <td>False</td>\n",
              "      <td>yes</td>\n",
              "    </tr>\n",
              "  </tbody>\n",
              "</table>\n",
              "</div>\n",
              "      <button class=\"colab-df-convert\" onclick=\"convertToInteractive('df-a4b309b3-3003-4e1a-b285-cbe17265df48')\"\n",
              "              title=\"Convert this dataframe to an interactive table.\"\n",
              "              style=\"display:none;\">\n",
              "        \n",
              "  <svg xmlns=\"http://www.w3.org/2000/svg\" height=\"24px\"viewBox=\"0 0 24 24\"\n",
              "       width=\"24px\">\n",
              "    <path d=\"M0 0h24v24H0V0z\" fill=\"none\"/>\n",
              "    <path d=\"M18.56 5.44l.94 2.06.94-2.06 2.06-.94-2.06-.94-.94-2.06-.94 2.06-2.06.94zm-11 1L8.5 8.5l.94-2.06 2.06-.94-2.06-.94L8.5 2.5l-.94 2.06-2.06.94zm10 10l.94 2.06.94-2.06 2.06-.94-2.06-.94-.94-2.06-.94 2.06-2.06.94z\"/><path d=\"M17.41 7.96l-1.37-1.37c-.4-.4-.92-.59-1.43-.59-.52 0-1.04.2-1.43.59L10.3 9.45l-7.72 7.72c-.78.78-.78 2.05 0 2.83L4 21.41c.39.39.9.59 1.41.59.51 0 1.02-.2 1.41-.59l7.78-7.78 2.81-2.81c.8-.78.8-2.07 0-2.86zM5.41 20L4 18.59l7.72-7.72 1.47 1.35L5.41 20z\"/>\n",
              "  </svg>\n",
              "      </button>\n",
              "      \n",
              "  <style>\n",
              "    .colab-df-container {\n",
              "      display:flex;\n",
              "      flex-wrap:wrap;\n",
              "      gap: 12px;\n",
              "    }\n",
              "\n",
              "    .colab-df-convert {\n",
              "      background-color: #E8F0FE;\n",
              "      border: none;\n",
              "      border-radius: 50%;\n",
              "      cursor: pointer;\n",
              "      display: none;\n",
              "      fill: #1967D2;\n",
              "      height: 32px;\n",
              "      padding: 0 0 0 0;\n",
              "      width: 32px;\n",
              "    }\n",
              "\n",
              "    .colab-df-convert:hover {\n",
              "      background-color: #E2EBFA;\n",
              "      box-shadow: 0px 1px 2px rgba(60, 64, 67, 0.3), 0px 1px 3px 1px rgba(60, 64, 67, 0.15);\n",
              "      fill: #174EA6;\n",
              "    }\n",
              "\n",
              "    [theme=dark] .colab-df-convert {\n",
              "      background-color: #3B4455;\n",
              "      fill: #D2E3FC;\n",
              "    }\n",
              "\n",
              "    [theme=dark] .colab-df-convert:hover {\n",
              "      background-color: #434B5C;\n",
              "      box-shadow: 0px 1px 3px 1px rgba(0, 0, 0, 0.15);\n",
              "      filter: drop-shadow(0px 1px 2px rgba(0, 0, 0, 0.3));\n",
              "      fill: #FFFFFF;\n",
              "    }\n",
              "  </style>\n",
              "\n",
              "      <script>\n",
              "        const buttonEl =\n",
              "          document.querySelector('#df-a4b309b3-3003-4e1a-b285-cbe17265df48 button.colab-df-convert');\n",
              "        buttonEl.style.display =\n",
              "          google.colab.kernel.accessAllowed ? 'block' : 'none';\n",
              "\n",
              "        async function convertToInteractive(key) {\n",
              "          const element = document.querySelector('#df-a4b309b3-3003-4e1a-b285-cbe17265df48');\n",
              "          const dataTable =\n",
              "            await google.colab.kernel.invokeFunction('convertToInteractive',\n",
              "                                                     [key], {});\n",
              "          if (!dataTable) return;\n",
              "\n",
              "          const docLinkHtml = 'Like what you see? Visit the ' +\n",
              "            '<a target=\"_blank\" href=https://colab.research.google.com/notebooks/data_table.ipynb>data table notebook</a>'\n",
              "            + ' to learn more about interactive tables.';\n",
              "          element.innerHTML = '';\n",
              "          dataTable['output_type'] = 'display_data';\n",
              "          await google.colab.output.renderOutput(dataTable, element);\n",
              "          const docLink = document.createElement('div');\n",
              "          docLink.innerHTML = docLinkHtml;\n",
              "          element.appendChild(docLink);\n",
              "        }\n",
              "      </script>\n",
              "    </div>\n",
              "  </div>\n",
              "  "
            ]
          },
          "metadata": {},
          "execution_count": 6
        }
      ]
    },
    {
      "cell_type": "code",
      "source": [
        "df.values"
      ],
      "metadata": {
        "colab": {
          "base_uri": "https://localhost:8080/"
        },
        "id": "UhLZ0SCgluG6",
        "outputId": "3f601ae8-d08c-4d92-9ee8-1b32f120a6e8"
      },
      "execution_count": null,
      "outputs": [
        {
          "output_type": "execute_result",
          "data": {
            "text/plain": [
              "array([['sunny', 'hot', 'high', False, 'no'],\n",
              "       ['sunny', 'hot', 'high', True, 'no'],\n",
              "       ['overcast', 'hot', 'high', False, 'yes'],\n",
              "       ['rainy', 'mild', 'high', False, 'yes'],\n",
              "       ['rainy', 'cool', 'normal', False, 'yes'],\n",
              "       ['rainy', 'cool', 'normal', True, 'no'],\n",
              "       ['overcast', 'cool', 'normal', True, 'yes'],\n",
              "       ['sunny', 'mild', 'high', False, 'no'],\n",
              "       ['sunny', 'cool', 'normal', False, 'yes'],\n",
              "       ['rainy', 'mild', 'normal', False, 'yes'],\n",
              "       ['sunny', 'mild', 'normal', True, 'yes'],\n",
              "       ['overcast', 'mild', 'high', True, 'yes'],\n",
              "       ['overcast', 'hot', 'normal', False, 'yes'],\n",
              "       ['rainy', 'mild', 'high', True, 'no']], dtype=object)"
            ]
          },
          "metadata": {},
          "execution_count": 7
        }
      ]
    },
    {
      "cell_type": "code",
      "source": [
        "df.describe"
      ],
      "metadata": {
        "colab": {
          "base_uri": "https://localhost:8080/"
        },
        "id": "6zxbrAQalw2G",
        "outputId": "e00b8d2c-d361-4bfe-dade-d17ab463bfc3"
      },
      "execution_count": null,
      "outputs": [
        {
          "output_type": "execute_result",
          "data": {
            "text/plain": [
              "<bound method NDFrame.describe of      outlook  temp humidity  windy play\n",
              "0      sunny   hot     high  False   no\n",
              "1      sunny   hot     high   True   no\n",
              "2   overcast   hot     high  False  yes\n",
              "3      rainy  mild     high  False  yes\n",
              "4      rainy  cool   normal  False  yes\n",
              "5      rainy  cool   normal   True   no\n",
              "6   overcast  cool   normal   True  yes\n",
              "7      sunny  mild     high  False   no\n",
              "8      sunny  cool   normal  False  yes\n",
              "9      rainy  mild   normal  False  yes\n",
              "10     sunny  mild   normal   True  yes\n",
              "11  overcast  mild     high   True  yes\n",
              "12  overcast   hot   normal  False  yes\n",
              "13     rainy  mild     high   True   no>"
            ]
          },
          "metadata": {},
          "execution_count": 8
        }
      ]
    },
    {
      "cell_type": "code",
      "source": [
        "#unique values in every non-binary column\n",
        "#OUTLOOK :  sunny, overcast, rainy\n",
        "#TEMP :  hot, mild, cool\n",
        "#HUMIDITY : high, normal\n",
        "#WINDY : true, false\n",
        "print(\"OUTLOOK:\",np.unique(df[['outlook']].values))\n",
        "print(\"TEMP:\",np.unique(df[['temp']].values))\n",
        "print(\"HUMIDITY:\",np.unique(df[['humidity']].values))"
      ],
      "metadata": {
        "colab": {
          "base_uri": "https://localhost:8080/"
        },
        "id": "U4SDqt_pnZzI",
        "outputId": "aee9551c-4178-4e00-f98a-a793c6b2270c"
      },
      "execution_count": null,
      "outputs": [
        {
          "output_type": "stream",
          "name": "stdout",
          "text": [
            "OUTLOOK: ['overcast' 'rainy' 'sunny']\n",
            "TEMP: ['cool' 'hot' 'mild']\n",
            "HUMIDITY: ['high' 'normal']\n"
          ]
        }
      ]
    },
    {
      "cell_type": "code",
      "source": [
        "count = df.nunique()\n",
        "print(count)"
      ],
      "metadata": {
        "colab": {
          "base_uri": "https://localhost:8080/"
        },
        "id": "maKnX78RoEur",
        "outputId": "fefe4beb-2867-4363-d9b5-e574eb369872"
      },
      "execution_count": null,
      "outputs": [
        {
          "output_type": "stream",
          "name": "stdout",
          "text": [
            "outlook     3\n",
            "temp        3\n",
            "humidity    2\n",
            "windy       2\n",
            "play        2\n",
            "dtype: int64\n"
          ]
        }
      ]
    },
    {
      "cell_type": "code",
      "source": [
        "\n",
        "c,h,m = df['temp'].value_counts()\n",
        "p = [c,h,m]\n",
        "print(p)"
      ],
      "metadata": {
        "colab": {
          "base_uri": "https://localhost:8080/"
        },
        "id": "vClKsUVtpP78",
        "outputId": "1237c4d7-e4f9-4fdc-f6e8-3da2b9f91e3a"
      },
      "execution_count": null,
      "outputs": [
        {
          "output_type": "stream",
          "name": "stdout",
          "text": [
            "[6, 4, 4]\n"
          ]
        }
      ]
    },
    {
      "cell_type": "code",
      "source": [
        "temp_total = c+h+m\n",
        "temp_prob= []\n",
        "for i in p:\n",
        "  temp_prob.append(temp_total/i)"
      ],
      "metadata": {
        "id": "3lphGDY9poSF"
      },
      "execution_count": null,
      "outputs": []
    },
    {
      "cell_type": "code",
      "source": [
        "print(temp_prob)"
      ],
      "metadata": {
        "colab": {
          "base_uri": "https://localhost:8080/"
        },
        "id": "CK5zwX_VqXPD",
        "outputId": "a70054c0-4aa5-412a-fc87-bb68c471a129"
      },
      "execution_count": null,
      "outputs": [
        {
          "output_type": "stream",
          "name": "stdout",
          "text": [
            "[2.3333333333333335, 3.5, 3.5]\n"
          ]
        }
      ]
    },
    {
      "cell_type": "code",
      "source": [
        "p_cold,p_hot,p_mild = temp_prob\n",
        "print(p_cold,p_hot,p_mild)"
      ],
      "metadata": {
        "colab": {
          "base_uri": "https://localhost:8080/"
        },
        "id": "1xaUwWvfqY1i",
        "outputId": "4ca43542-c5bd-4cf7-b39e-34221dea2fdc"
      },
      "execution_count": null,
      "outputs": [
        {
          "output_type": "stream",
          "name": "stdout",
          "text": [
            "2.3333333333333335 3.5 3.5\n"
          ]
        }
      ]
    },
    {
      "cell_type": "code",
      "source": [
        "#H(X) = – [(0.70 * log2 (0.70)) + (0.30 * log2 (0.30))]\n",
        "from math import log\n",
        "\n",
        "Entropy_temp = np.array([])\n",
        "\n",
        "for i in temp_prob:\n",
        "  new_array_entropy_temp = np.append(Entropy_temp, i * log(i))\n",
        "  # Entropy_temp.append(i * math.log(i))\n"
      ],
      "metadata": {
        "id": "oqmMlKqVq9Uv"
      },
      "execution_count": null,
      "outputs": []
    },
    {
      "cell_type": "code",
      "source": [
        "print(new_array_entropy_temp)"
      ],
      "metadata": {
        "colab": {
          "base_uri": "https://localhost:8080/"
        },
        "id": "ackBc2xKr5u8",
        "outputId": "afcf9e7c-eac6-4f8f-d871-ea3c1a97c98e"
      },
      "execution_count": null,
      "outputs": [
        {
          "output_type": "stream",
          "name": "stdout",
          "text": [
            "[4.38467039]\n"
          ]
        }
      ]
    },
    {
      "cell_type": "code",
      "source": [
        "total = np.sum(new_array_entropy_temp) \n",
        "print(-total)"
      ],
      "metadata": {
        "colab": {
          "base_uri": "https://localhost:8080/"
        },
        "id": "9DrB53Qst0La",
        "outputId": "a258691b-34c0-4746-e289-0ad4c57e29c1"
      },
      "execution_count": null,
      "outputs": [
        {
          "output_type": "stream",
          "name": "stdout",
          "text": [
            "-4.384670389733788\n"
          ]
        }
      ]
    },
    {
      "cell_type": "code",
      "source": [
        "# overall_entropy = \n",
        "play,not_play = df['play'].value_counts()\n",
        "total_label_value = play,not_play\n",
        "print(total_label_value)"
      ],
      "metadata": {
        "colab": {
          "base_uri": "https://localhost:8080/"
        },
        "id": "R4gbNOILuwJv",
        "outputId": "87b74d21-4640-41c2-f6e6-738936e6c0eb"
      },
      "execution_count": null,
      "outputs": [
        {
          "output_type": "stream",
          "name": "stdout",
          "text": [
            "(9, 5)\n"
          ]
        }
      ]
    },
    {
      "cell_type": "code",
      "source": [
        "No_total = play + not_play\n",
        "play_prob= [x/No_total for x in total_label_value]\n",
        "# for i in total_label_value:\n",
        "#   play_prob.append(No_total/i)\n",
        "\n",
        "print(play_prob)"
      ],
      "metadata": {
        "colab": {
          "base_uri": "https://localhost:8080/"
        },
        "id": "PVKIMpoxwOFV",
        "outputId": "19478ad1-4059-4d25-f51a-093915089101"
      },
      "execution_count": null,
      "outputs": [
        {
          "output_type": "stream",
          "name": "stdout",
          "text": [
            "[0.6428571428571429, 0.35714285714285715]\n"
          ]
        }
      ]
    },
    {
      "cell_type": "code",
      "source": [
        "import math\n",
        "Entropy_overall = -sum([x*math.log2(x) for x in play_prob])\n",
        "Entropy_overall"
      ],
      "metadata": {
        "id": "40X-35brwzGV",
        "colab": {
          "base_uri": "https://localhost:8080/"
        },
        "outputId": "19f16745-193f-412b-b546-ea5f85cdd540"
      },
      "execution_count": null,
      "outputs": [
        {
          "output_type": "execute_result",
          "data": {
            "text/plain": [
              "0.9402859586706311"
            ]
          },
          "metadata": {},
          "execution_count": 20
        }
      ]
    },
    {
      "cell_type": "code",
      "source": [
        "# #outlook entropy\n",
        "# sunny,rainy,overcast = df['outlook'].value_counts()\n",
        "# all_outlook_values = sunny,rainy,overcast\n",
        "# No_of_outlook_values = sunny+rainy+overcast\n",
        "# print(all_outlook_values)"
      ],
      "metadata": {
        "id": "LKUNzJ9eSq54"
      },
      "execution_count": null,
      "outputs": []
    },
    {
      "cell_type": "code",
      "source": [
        "# prob_of_outlook = [x/No_of_outlook_values for x in all_outlook_values]\n",
        "# print(prob_of_outlook) #probabilities of values in outlook (sunny,rainy,overcast)"
      ],
      "metadata": {
        "id": "j9WMI-VjW7r2"
      },
      "execution_count": null,
      "outputs": []
    },
    {
      "cell_type": "code",
      "source": [
        "# import math\n",
        "# outlook_Entropy= sum([-x*math.log(x,3) for x in prob_of_outlook])\n",
        "# outlook_Entropy"
      ],
      "metadata": {
        "id": "DEIIgFIQXUbP"
      },
      "execution_count": null,
      "outputs": []
    },
    {
      "cell_type": "code",
      "source": [
        "df_filtered = df[(df['outlook']=='sunny') & (df['play'])]\n",
        "print(df_filtered)"
      ],
      "metadata": {
        "colab": {
          "base_uri": "https://localhost:8080/"
        },
        "id": "rwRz1ajdayXL",
        "outputId": "a533f5d1-187a-4ddc-db20-69bdf1201440"
      },
      "execution_count": null,
      "outputs": [
        {
          "output_type": "stream",
          "name": "stdout",
          "text": [
            "   outlook  temp humidity  windy play\n",
            "0    sunny   hot     high  False   no\n",
            "1    sunny   hot     high   True   no\n",
            "7    sunny  mild     high  False   no\n",
            "8    sunny  cool   normal  False  yes\n",
            "10   sunny  mild   normal   True  yes\n"
          ]
        }
      ]
    },
    {
      "cell_type": "code",
      "source": [
        "s_play , s_playnot = df_filtered['play'].value_counts()\n",
        "sunny_outlook_values = s_play , s_playnot\n",
        "No_of_s_outlook_values = s_play + s_playnot\n",
        "sunny_outlook_values"
      ],
      "metadata": {
        "colab": {
          "base_uri": "https://localhost:8080/"
        },
        "id": "y4WtOcngbdyP",
        "outputId": "60670a2a-1497-4d37-dcb4-dd4a9d0d46af"
      },
      "execution_count": null,
      "outputs": [
        {
          "output_type": "execute_result",
          "data": {
            "text/plain": [
              "(3, 2)"
            ]
          },
          "metadata": {},
          "execution_count": 25
        }
      ]
    },
    {
      "cell_type": "code",
      "source": [
        "prob_of_sunny_outlook = [x/No_of_s_outlook_values for x in sunny_outlook_values]\n",
        "print(prob_of_sunny_outlook) #probabilities of values in outlook (sunny,rainy,overcast)"
      ],
      "metadata": {
        "colab": {
          "base_uri": "https://localhost:8080/"
        },
        "id": "5L2A6o1_chP2",
        "outputId": "7c29a06b-0217-4b58-e1a4-94dc0b78223d"
      },
      "execution_count": null,
      "outputs": [
        {
          "output_type": "stream",
          "name": "stdout",
          "text": [
            "[0.6, 0.4]\n"
          ]
        }
      ]
    },
    {
      "cell_type": "code",
      "source": [
        "import math\n",
        "s_outlook_Entropy= sum([-x*math.log(x,2) for x in prob_of_sunny_outlook])\n",
        "s_outlook_Entropy"
      ],
      "metadata": {
        "colab": {
          "base_uri": "https://localhost:8080/"
        },
        "id": "K19WAZHSdIvq",
        "outputId": "945d2d90-3898-44a2-87ff-afe383aaac9a"
      },
      "execution_count": null,
      "outputs": [
        {
          "output_type": "execute_result",
          "data": {
            "text/plain": [
              "0.9709505944546686"
            ]
          },
          "metadata": {},
          "execution_count": 27
        }
      ]
    },
    {
      "cell_type": "code",
      "source": [
        "df_filtered_overcast = df[(df['outlook']=='overcast') & (df['play'])]\n",
        "print(df_filtered_overcast)\n",
        "overcast_play = df_filtered_overcast['play'].value_counts()\n",
        "overcast_outlook_values = overcast_play\n",
        "No_of_o_outlook_values = overcast_play\n",
        "overcast_outlook_values"
      ],
      "metadata": {
        "colab": {
          "base_uri": "https://localhost:8080/"
        },
        "id": "eQ4cBEBXeyq0",
        "outputId": "bca831e2-a8c4-4891-804e-9591517df570"
      },
      "execution_count": null,
      "outputs": [
        {
          "output_type": "stream",
          "name": "stdout",
          "text": [
            "     outlook  temp humidity  windy play\n",
            "2   overcast   hot     high  False  yes\n",
            "6   overcast  cool   normal   True  yes\n",
            "11  overcast  mild     high   True  yes\n",
            "12  overcast   hot   normal  False  yes\n"
          ]
        },
        {
          "output_type": "execute_result",
          "data": {
            "text/plain": [
              "yes    4\n",
              "Name: play, dtype: int64"
            ]
          },
          "metadata": {},
          "execution_count": 28
        }
      ]
    },
    {
      "cell_type": "code",
      "source": [
        "prob_of_overcast_outlook = [x/No_of_o_outlook_values for x in overcast_outlook_values]\n",
        "print(prob_of_overcast_outlook) #probabilities of values in outlook (sunny,rainy,overcast)"
      ],
      "metadata": {
        "colab": {
          "base_uri": "https://localhost:8080/"
        },
        "id": "M36lVfOAfcz4",
        "outputId": "4923433d-1bdc-4625-f84d-99014906acfd"
      },
      "execution_count": null,
      "outputs": [
        {
          "output_type": "stream",
          "name": "stdout",
          "text": [
            "[yes    1.0\n",
            "Name: play, dtype: float64]\n"
          ]
        }
      ]
    },
    {
      "cell_type": "code",
      "source": [
        "import math\n",
        "o_outlook_Entropy= sum([-x*math.log(x) for x in prob_of_overcast_outlook])\n",
        "o_outlook_Entropy"
      ],
      "metadata": {
        "colab": {
          "base_uri": "https://localhost:8080/"
        },
        "id": "lxP-5rgAgCpo",
        "outputId": "e3a7a846-f16a-46c5-b570-a1845d02128a"
      },
      "execution_count": null,
      "outputs": [
        {
          "output_type": "execute_result",
          "data": {
            "text/plain": [
              "yes    0.0\n",
              "Name: play, dtype: float64"
            ]
          },
          "metadata": {},
          "execution_count": 30
        }
      ]
    },
    {
      "cell_type": "code",
      "source": [
        "df_filtered_rain = df[(df['outlook']=='rainy') & (df['play'])]\n",
        "print(df_filtered_rain)\n",
        "rain_play, rain_playnot = df_filtered_rain['play'].value_counts()\n",
        "rain_outlook_values = rain_play, rain_playnot\n",
        "No_of_r_outlook_values = rain_play + rain_playnot\n",
        "rain_outlook_values"
      ],
      "metadata": {
        "colab": {
          "base_uri": "https://localhost:8080/"
        },
        "id": "RD5cX99jgP-I",
        "outputId": "73dc3d38-5fb8-4a29-af15-e0bd8dd5fa41"
      },
      "execution_count": null,
      "outputs": [
        {
          "output_type": "stream",
          "name": "stdout",
          "text": [
            "   outlook  temp humidity  windy play\n",
            "3    rainy  mild     high  False  yes\n",
            "4    rainy  cool   normal  False  yes\n",
            "5    rainy  cool   normal   True   no\n",
            "9    rainy  mild   normal  False  yes\n",
            "13   rainy  mild     high   True   no\n"
          ]
        },
        {
          "output_type": "execute_result",
          "data": {
            "text/plain": [
              "(3, 2)"
            ]
          },
          "metadata": {},
          "execution_count": 31
        }
      ]
    },
    {
      "cell_type": "code",
      "source": [
        "prob_of_rain_outlook = [x/No_of_r_outlook_values for x in rain_outlook_values]\n",
        "print(prob_of_rain_outlook) #probabilities of values in outlook (sunny,rainy,overcast)"
      ],
      "metadata": {
        "colab": {
          "base_uri": "https://localhost:8080/"
        },
        "id": "An5-42Pwgm_9",
        "outputId": "25592f13-a573-42af-c9e9-2646556265e6"
      },
      "execution_count": null,
      "outputs": [
        {
          "output_type": "stream",
          "name": "stdout",
          "text": [
            "[0.6, 0.4]\n"
          ]
        }
      ]
    },
    {
      "cell_type": "code",
      "source": [
        "import math\n",
        "r_outlook_Entropy= sum([-x*math.log(x,2) for x in prob_of_rain_outlook])\n",
        "r_outlook_Entropy"
      ],
      "metadata": {
        "colab": {
          "base_uri": "https://localhost:8080/"
        },
        "id": "ZcI-sWjZgtkf",
        "outputId": "86a06d2b-971b-4ee7-9d12-2fbb4b721482"
      },
      "execution_count": null,
      "outputs": [
        {
          "output_type": "execute_result",
          "data": {
            "text/plain": [
              "0.9709505944546686"
            ]
          },
          "metadata": {},
          "execution_count": 33
        }
      ]
    },
    {
      "cell_type": "code",
      "source": [
        "sunny,rainy,overcast = df['outlook'].value_counts()\n",
        "all_outlook_values = sunny,rainy,overcast\n",
        "info_gain_outlook = Entropy_overall - ((sunny/No_total *s_outlook_Entropy))-((rainy/No_total *r_outlook_Entropy))-((overcast/No_total *o_outlook_Entropy))\n",
        "print(info_gain_outlook)"
      ],
      "metadata": {
        "colab": {
          "base_uri": "https://localhost:8080/"
        },
        "id": "iRrzbfnPg0oO",
        "outputId": "5734ea6b-6127-4248-ba55-55060ed33e8a"
      },
      "execution_count": null,
      "outputs": [
        {
          "output_type": "stream",
          "name": "stdout",
          "text": [
            "yes    0.24675\n",
            "Name: play, dtype: float64\n"
          ]
        }
      ]
    },
    {
      "cell_type": "code",
      "source": [
        "#temperature Entropy:\n",
        "#hot temp:\n",
        "df_filtered_t_hot = df[(df['temp']=='hot') & (df['play'])]\n",
        "print(df_filtered_t_hot)\n",
        "hot_play , hot_playnot = df_filtered_t_hot['play'].value_counts()\n",
        "hot_temp_values = hot_play , hot_playnot\n",
        "No_of_hot_temp_values = hot_play + hot_playnot\n",
        "\n",
        "prob_of_hot_temp = [x/No_of_hot_temp_values for x in hot_temp_values]\n",
        "print(prob_of_hot_temp)\n",
        "\n",
        "hot_temp_Entropy= sum([-x*math.log(x,2) for x in prob_of_hot_temp])\n",
        "hot_temp_Entropy"
      ],
      "metadata": {
        "id": "93HlYMsllk9E",
        "colab": {
          "base_uri": "https://localhost:8080/"
        },
        "outputId": "f18194c3-8efe-4dea-d425-f0b8f79aa161"
      },
      "execution_count": null,
      "outputs": [
        {
          "output_type": "stream",
          "name": "stdout",
          "text": [
            "     outlook temp humidity  windy play\n",
            "0      sunny  hot     high  False   no\n",
            "1      sunny  hot     high   True   no\n",
            "2   overcast  hot     high  False  yes\n",
            "12  overcast  hot   normal  False  yes\n",
            "[0.5, 0.5]\n"
          ]
        },
        {
          "output_type": "execute_result",
          "data": {
            "text/plain": [
              "1.0"
            ]
          },
          "metadata": {},
          "execution_count": 41
        }
      ]
    },
    {
      "cell_type": "code",
      "source": [
        "#mild temp:\n",
        "df_filtered_t_mild = df[(df['temp']=='mild') & (df['play'])]\n",
        "print(df_filtered_t_mild)\n",
        "mild_play , mild_playnot = df_filtered_t_mild['play'].value_counts()\n",
        "mild_temp_values = mild_play , mild_playnot\n",
        "No_of_mild_temp_values = mild_play + mild_playnot\n",
        "\n",
        "prob_of_mild_temp = [x/No_of_mild_temp_values for x in mild_temp_values]\n",
        "print(prob_of_mild_temp)\n",
        "\n",
        "mild_temp_Entropy= sum([-x*math.log(x,2) for x in prob_of_mild_temp])\n",
        "mild_temp_Entropy"
      ],
      "metadata": {
        "colab": {
          "base_uri": "https://localhost:8080/"
        },
        "id": "PVZdwA6TRYvR",
        "outputId": "a7c76dd8-b16e-466a-bb37-1957c8fd6bfc"
      },
      "execution_count": null,
      "outputs": [
        {
          "output_type": "stream",
          "name": "stdout",
          "text": [
            "     outlook  temp humidity  windy play\n",
            "3      rainy  mild     high  False  yes\n",
            "7      sunny  mild     high  False   no\n",
            "9      rainy  mild   normal  False  yes\n",
            "10     sunny  mild   normal   True  yes\n",
            "11  overcast  mild     high   True  yes\n",
            "13     rainy  mild     high   True   no\n",
            "[0.6666666666666666, 0.3333333333333333]\n"
          ]
        },
        {
          "output_type": "execute_result",
          "data": {
            "text/plain": [
              "0.9182958340544896"
            ]
          },
          "metadata": {},
          "execution_count": 44
        }
      ]
    },
    {
      "cell_type": "code",
      "source": [
        "#cold temp:\n",
        "df_filtered_t_cold = df[(df['temp']=='cool') & (df['play'])]\n",
        "print(df_filtered_t_cold)\n",
        "cold_play , cold_playnot = df_filtered_t_cold['play'].value_counts()\n",
        "cold_temp_values = cold_play , cold_playnot\n",
        "No_of_cold_temp_values = cold_play + cold_playnot\n",
        "\n",
        "prob_of_cold_temp = [x/No_of_cold_temp_values for x in cold_temp_values]\n",
        "print(prob_of_cold_temp)\n",
        "\n",
        "cold_temp_Entropy= sum([-x*math.log(x,2) for x in prob_of_cold_temp])\n",
        "cold_temp_Entropy"
      ],
      "metadata": {
        "colab": {
          "base_uri": "https://localhost:8080/"
        },
        "id": "W4wbmYQvS1-0",
        "outputId": "d72e9dea-0f91-4d99-9706-08dbdae6de86"
      },
      "execution_count": null,
      "outputs": [
        {
          "output_type": "stream",
          "name": "stdout",
          "text": [
            "    outlook  temp humidity  windy play\n",
            "4     rainy  cool   normal  False  yes\n",
            "5     rainy  cool   normal   True   no\n",
            "6  overcast  cool   normal   True  yes\n",
            "8     sunny  cool   normal  False  yes\n",
            "[0.75, 0.25]\n"
          ]
        },
        {
          "output_type": "execute_result",
          "data": {
            "text/plain": [
              "0.8112781244591328"
            ]
          },
          "metadata": {},
          "execution_count": 48
        }
      ]
    },
    {
      "cell_type": "code",
      "source": [
        "#Information Gain on Temperature:\n",
        "print(df['temp'].value_counts())\n",
        "mild,hot,cool = df['temp'].value_counts()\n",
        "all_temp_values = mild,hot,cool\n",
        "print(all_temp_values)\n",
        "info_gain_temp = Entropy_overall - ((mild/No_total *mild_temp_Entropy))-((hot/No_total *hot_temp_Entropy))-((cool/No_total *cold_temp_Entropy))\n",
        "print(info_gain_temp)"
      ],
      "metadata": {
        "colab": {
          "base_uri": "https://localhost:8080/"
        },
        "id": "dv8wJcwtTZOl",
        "outputId": "4accecf4-d011-4239-efdf-936a3570919a"
      },
      "execution_count": null,
      "outputs": [
        {
          "output_type": "stream",
          "name": "stdout",
          "text": [
            "mild    6\n",
            "hot     4\n",
            "cool    4\n",
            "Name: temp, dtype: int64\n",
            "(6, 4, 4)\n",
            "0.02922256565895487\n"
          ]
        }
      ]
    },
    {
      "cell_type": "code",
      "source": [
        "#Entropy of humidity:\n",
        "#humidity high:\n",
        "df_filtered_h_high = df[(df['humidity']=='high') & (df['play'])]\n",
        "print(df_filtered_h_high)\n",
        "h_high_play , h_high_playnot = df_filtered_h_high['play'].value_counts()\n",
        "h_high_values = h_high_play , h_high_playnot\n",
        "No_of_h_high_values = h_high_play + h_high_playnot\n",
        "\n",
        "prob_of_h_high = [x/No_of_h_high_values for x in h_high_values]\n",
        "print(prob_of_h_high)\n",
        "\n",
        "h_high_Entropy= sum([-x*math.log(x,2) for x in prob_of_h_high])\n",
        "print(h_high_Entropy)"
      ],
      "metadata": {
        "colab": {
          "base_uri": "https://localhost:8080/"
        },
        "id": "Ze6utFXFUKYX",
        "outputId": "84573e36-c695-4ffc-bb45-d0459c6dccae"
      },
      "execution_count": null,
      "outputs": [
        {
          "output_type": "stream",
          "name": "stdout",
          "text": [
            "     outlook  temp humidity  windy play\n",
            "0      sunny   hot     high  False   no\n",
            "1      sunny   hot     high   True   no\n",
            "2   overcast   hot     high  False  yes\n",
            "3      rainy  mild     high  False  yes\n",
            "7      sunny  mild     high  False   no\n",
            "11  overcast  mild     high   True  yes\n",
            "13     rainy  mild     high   True   no\n",
            "[0.5714285714285714, 0.42857142857142855]\n",
            "0.9852281360342516\n"
          ]
        }
      ]
    },
    {
      "cell_type": "code",
      "source": [
        "#humidity normal:\n",
        "\n",
        "df_filtered_h_normal = df[(df['humidity']=='normal') & (df['play'])]\n",
        "print(df_filtered_h_normal)\n",
        "h_normal_play , h_normal_playnot = df_filtered_h_normal['play'].value_counts()\n",
        "h_normal_values = h_normal_play , h_normal_playnot\n",
        "No_of_h_normal_values = h_normal_play + h_normal_playnot\n",
        "\n",
        "prob_of_h_normal = [x/No_of_h_normal_values for x in h_normal_values]\n",
        "print(prob_of_h_normal)\n",
        "\n",
        "h_normal_Entropy= sum([-x*math.log(x,2) for x in prob_of_h_normal])\n",
        "print(h_normal_Entropy)"
      ],
      "metadata": {
        "colab": {
          "base_uri": "https://localhost:8080/"
        },
        "id": "y5J9XkANVKF7",
        "outputId": "5950aba9-3428-45a5-9c6e-839d684e8595"
      },
      "execution_count": null,
      "outputs": [
        {
          "output_type": "stream",
          "name": "stdout",
          "text": [
            "     outlook  temp humidity  windy play\n",
            "4      rainy  cool   normal  False  yes\n",
            "5      rainy  cool   normal   True   no\n",
            "6   overcast  cool   normal   True  yes\n",
            "8      sunny  cool   normal  False  yes\n",
            "9      rainy  mild   normal  False  yes\n",
            "10     sunny  mild   normal   True  yes\n",
            "12  overcast   hot   normal  False  yes\n",
            "[0.8571428571428571, 0.14285714285714285]\n",
            "0.5916727785823275\n"
          ]
        }
      ]
    },
    {
      "cell_type": "code",
      "source": [
        "#Information Gain on Temperature:\n",
        "print(df['humidity'].value_counts())\n",
        "high,normal = df['humidity'].value_counts()\n",
        "all_humidity_values = high,normal\n",
        "info_gain_humidity = Entropy_overall - ((high/No_total *h_high_Entropy))-((normal/No_total *h_normal_Entropy))\n",
        "print(info_gain_humidity)"
      ],
      "metadata": {
        "colab": {
          "base_uri": "https://localhost:8080/"
        },
        "id": "NXVaQk1EVpm2",
        "outputId": "5f1b18e1-e804-4d47-9bc0-694268b9e0ca"
      },
      "execution_count": null,
      "outputs": [
        {
          "output_type": "stream",
          "name": "stdout",
          "text": [
            "high      7\n",
            "normal    7\n",
            "Name: humidity, dtype: int64\n",
            "0.15183550136234159\n"
          ]
        }
      ]
    },
    {
      "cell_type": "code",
      "source": [
        "#Entropy of Windy:\n",
        "#Windy TRUE:\n",
        "df_filtered_w_true = df[(df['windy']==True) & (df['play'])]\n",
        "print(df_filtered_w_true)\n",
        "w_true_play, w_true_playnot = df_filtered_w_true['play'].value_counts()\n",
        "w_true_values = w_true_play , w_true_playnot\n",
        "No_of_w_true_values = w_true_play + w_true_playnot\n",
        "\n",
        "prob_of_w_true = [x/No_of_w_true_values for x in w_true_values]\n",
        "print(prob_of_w_true)\n",
        "\n",
        "w_true_Entropy= sum([-x*math.log(x,2) for x in prob_of_w_true])\n",
        "print(w_true_Entropy)"
      ],
      "metadata": {
        "colab": {
          "base_uri": "https://localhost:8080/"
        },
        "id": "pT14aJqEk-Vh",
        "outputId": "c99a589d-843c-491c-c083-1b810c763aa0"
      },
      "execution_count": null,
      "outputs": [
        {
          "output_type": "stream",
          "name": "stdout",
          "text": [
            "     outlook  temp humidity  windy play\n",
            "1      sunny   hot     high   True   no\n",
            "5      rainy  cool   normal   True   no\n",
            "6   overcast  cool   normal   True  yes\n",
            "10     sunny  mild   normal   True  yes\n",
            "11  overcast  mild     high   True  yes\n",
            "13     rainy  mild     high   True   no\n",
            "[0.5, 0.5]\n",
            "1.0\n"
          ]
        }
      ]
    },
    {
      "cell_type": "code",
      "source": [
        "#Entropy of Windy:\n",
        "#Windy False:\n",
        "df_filtered_w_false = df[(df['windy']==False) & (df['play'])]\n",
        "print(df_filtered_w_false)\n",
        "w_false_play, w_false_playnot = df_filtered_w_false['play'].value_counts()\n",
        "w_false_values = w_false_play , w_false_playnot\n",
        "No_of_w_false_values = w_false_play + w_false_playnot\n",
        "\n",
        "prob_of_w_false = [x/No_of_w_false_values for x in w_false_values]\n",
        "print(prob_of_w_false)\n",
        "\n",
        "w_false_Entropy= sum([-x*math.log(x,2) for x in prob_of_w_false])\n",
        "print(w_false_Entropy)"
      ],
      "metadata": {
        "colab": {
          "base_uri": "https://localhost:8080/"
        },
        "id": "PHTZdTR7lEMY",
        "outputId": "8327a9e7-3096-4a95-e7f3-5d9ac11a0425"
      },
      "execution_count": null,
      "outputs": [
        {
          "output_type": "stream",
          "name": "stdout",
          "text": [
            "     outlook  temp humidity  windy play\n",
            "0      sunny   hot     high  False   no\n",
            "2   overcast   hot     high  False  yes\n",
            "3      rainy  mild     high  False  yes\n",
            "4      rainy  cool   normal  False  yes\n",
            "7      sunny  mild     high  False   no\n",
            "8      sunny  cool   normal  False  yes\n",
            "9      rainy  mild   normal  False  yes\n",
            "12  overcast   hot   normal  False  yes\n",
            "[0.75, 0.25]\n",
            "0.8112781244591328\n"
          ]
        }
      ]
    },
    {
      "cell_type": "code",
      "source": [
        "#Information Gain on Windy:\n",
        "print(df['windy'].value_counts())\n",
        "false,true = df['windy'].value_counts()\n",
        "all_windy_values = false,true\n",
        "info_gain_windy = Entropy_overall -((false/No_total *w_false_Entropy))- ((true/No_total *w_true_Entropy))\n",
        "print(info_gain_windy) "
      ],
      "metadata": {
        "colab": {
          "base_uri": "https://localhost:8080/"
        },
        "id": "FxSIZnKwnH9A",
        "outputId": "b99eb903-cbe6-44ce-b7ae-56c244c08f42"
      },
      "execution_count": null,
      "outputs": [
        {
          "output_type": "stream",
          "name": "stdout",
          "text": [
            "False    8\n",
            "True     6\n",
            "Name: windy, dtype: int64\n",
            "0.048127030408269544\n"
          ]
        }
      ]
    },
    {
      "cell_type": "code",
      "source": [
        "print(info_gain_outlook,info_gain_temp,info_gain_humidity,info_gain_windy)"
      ],
      "metadata": {
        "colab": {
          "base_uri": "https://localhost:8080/"
        },
        "id": "s37cr_8YuC_C",
        "outputId": "24b2a79b-3297-4879-bf97-2ce50c4dbde5"
      },
      "execution_count": null,
      "outputs": [
        {
          "output_type": "stream",
          "name": "stdout",
          "text": [
            "yes    0.24675\n",
            "Name: play, dtype: float64 0.02922256565895487 0.15183550136234159 0.048127030408269544\n"
          ]
        }
      ]
    }
  ]
}